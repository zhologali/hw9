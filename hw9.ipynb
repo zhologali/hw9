{
 "cells": [
  {
   "cell_type": "code",
   "execution_count": 1,
   "metadata": {},
   "outputs": [],
   "source": [
    "import re"
   ]
  },
  {
   "cell_type": "markdown",
   "metadata": {},
   "source": [
    "**Задание 1.**\n",
    "Напишите функцию, которая принимает на вход строку и проверяет является ли она валидным транспортным номером. Если да, то функция должна возвращать отдельно номер и регион.\n",
    "\n",
    "В результате должно быть\n",
    "* А 111ОХ97 - ('А 111ОХ', '97')\n",
    "* М128ММ 777 - ('М128ММ', '777')\n",
    "* Х063ЕТ77 - ('Х063ЕТ', '77')\n",
    "* АВ214ПА189 - None\n",
    "* Х001ЕТ00 - None\n",
    "* В 000 РА79 - None"
   ]
  },
  {
   "cell_type": "code",
   "execution_count": 2,
   "metadata": {},
   "outputs": [],
   "source": [
    "nomera = ['А 111ОХ97', 'М128ММ 777', 'Х063ЕТ77', 'АВ214ПА189', 'Х001ЕТ00', 'В 000 РА79']"
   ]
  },
  {
   "cell_type": "code",
   "execution_count": 90,
   "metadata": {},
   "outputs": [],
   "source": [
    "def valid_nomer(nomer):\n",
    "    result = re.match(r'(\\w{1}\\s?\\d{3}\\s?\\w{2})\\s?(\\d{2,3})', nomer)\n",
    "    if result != None:\n",
    "        print(re.findall(r'(\\w{1}\\s?\\d{3}\\s?\\w{2})\\s?(\\d{2,3})',result.group(0)))\n",
    "    else:\n",
    "        print(result)"
   ]
  },
  {
   "cell_type": "code",
   "execution_count": 91,
   "metadata": {},
   "outputs": [
    {
     "name": "stdout",
     "output_type": "stream",
     "text": [
      "[('А 111ОХ', '97')]\n",
      "[('М128ММ', '777')]\n",
      "[('Х063ЕТ', '77')]\n",
      "None\n",
      "[('Х001ЕТ', '00')]\n",
      "[('В 000 РА', '79')]\n"
     ]
    }
   ],
   "source": [
    "for nomer in nomera:\n",
    "    valid_nomer(nomer)"
   ]
  },
  {
   "cell_type": "markdown",
   "metadata": {},
   "source": [
    "**Задание 2.**\n",
    "Постарайтесь написать (в крайнем случае найти) самый полный шаблон для проверки e-mail адресов через регулярное выражение, которая проверяет e-mail адрес на валидность. Можно руководствоваться следующими минимальными требованиями:\n",
    "* адрес должен содержать специальный символ “@”, который отделяет имя пользователя почтовой системы от доменного имени;\n",
    "* адрес не должен содержать следующие символы: “пробел”, “,”, “:”, “;”, “!”, “#”, “%”, “*”, “(”, “)”, “=”, “+”, “{”, “}”, \" \" \", \" ’ \", \" / \", \" \\ \" и “|”;\n",
    "* адрес должен состоять только из латинских символов;\n",
    "* после символа “@” должна быть как минимум одна “.”;\n",
    "* после последней точки должно быть не менее 2-х и не более 4-х символов, причем наличие цифр не допускается;\n",
    "* между последней точкой и символом “@” должно быть не менее 2-х символов\n",
    "* слева от “@” должно быть не менее четырех символов"
   ]
  },
  {
   "cell_type": "code",
   "execution_count": 93,
   "metadata": {},
   "outputs": [],
   "source": [
    "password = 'golobova77@mail.ru'"
   ]
  },
  {
   "cell_type": "code",
   "execution_count": 97,
   "metadata": {},
   "outputs": [
    {
     "name": "stdout",
     "output_type": "stream",
     "text": [
      "The password golobova77@mail.ru is a valid password\n"
     ]
    }
   ],
   "source": [
    "regex_pass = r'[_A-Za-z0-9-\\+]+(\\.[_A-Za-z0-9-]+)*@[A-Za-z0-9-]+(\\.[A-Za-z0-9]+)*(\\.[A-Za-z]{2,})'\n",
    "#for password in passwords:\n",
    "if re.match(regex_pass, password):\n",
    "    print('The password {} is a valid password'.format(password))\n",
    "else:\n",
    "    print('The password {} is invalid'.format(password)) "
   ]
  },
  {
   "cell_type": "markdown",
   "metadata": {},
   "source": [
    "**Задание 3.**\n",
    "Напишите функцию, которая будет удалять все последовательные повторы слов из заданной строки при помощи регулярных выражений."
   ]
  },
  {
   "cell_type": "code",
   "execution_count": 11,
   "metadata": {},
   "outputs": [
    {
     "name": "stdout",
     "output_type": "stream",
     "text": [
      "Пусит бегут неуклюже пешеходы по лужам И вода по асфальту рекой\n"
     ]
    }
   ],
   "source": [
    "s = \"Пусит бегут бегут неуклюже пешеходы по по лужам. И и вода по по асфальту рекой рекой!\"\n",
    "print( re.sub(r'\\b([^\\W\\d_]+)(\\s+\\1)+\\b', r'\\1', re.sub(r'\\W+', ' ', s).strip(), flags=re.I) )"
   ]
  },
  {
   "cell_type": "markdown",
   "metadata": {},
   "source": [
    "**Задание 4.**\n",
    "Напишите функцию, которая будет проверять номер сотового телефона на валидность, если он валиден, то переводить его в формат:\n",
    "+7(xxx)-xxx-xx-xx\n",
    "*\n",
    "Постарайтесь предусмотреть как можно больше адекватных форматов изначального ввода номера. Примеры валидных форматов:\n",
    "*\n",
    "* +7 955 555-55-55;\n",
    "* 9555555555;\n",
    "* 8(955)555-55-55;\n",
    "* +7 955 555 55 55;\n",
    "* 7(955) 555-55-55;\n",
    "* +7 955+555+55+55."
   ]
  },
  {
   "cell_type": "code",
   "execution_count": 67,
   "metadata": {},
   "outputs": [],
   "source": [
    "def valid_nomer_phone(nomer):\n",
    "    regex_nomer = r'(\\+?[78]?)[\\(\\s]?(\\d\\d\\d)[\\)\\s\\+]?\\s?(\\d\\d\\d)[\\-\\s\\+]?(\\d\\d)[\\-\\s\\+]?(\\d\\d)'\n",
    "    #nomer = '+7 955+555+55+55'\n",
    "    #print(re.findall(regex_nomer, nomer))\n",
    "    if re.match(regex_nomer, nomer):\n",
    "        #print('The nomer {} is a valid nomer'.format(nomer))\n",
    "        print(re.sub(r'(\\+?[78]?)[\\(\\s]?(\\d\\d\\d)[\\)\\s\\+]?\\s?(\\d\\d\\d)[\\-\\s\\+]?(\\d\\d)[\\-\\s\\+]?(\\d\\d)', r'+7(\\2)-\\3-\\4-\\5', nomer))\n",
    "    else:\n",
    "        print('The nomer {} is invalid'.format(nomer)) "
   ]
  },
  {
   "cell_type": "code",
   "execution_count": 68,
   "metadata": {},
   "outputs": [],
   "source": [
    "phone_number = ['+7 955 555-55-55','9555555555','8(955)555-55-55','+7 955 555 55 55','7(955) 555-55-55','+7 955+555+55+55','9955+555+55+55']"
   ]
  },
  {
   "cell_type": "code",
   "execution_count": 69,
   "metadata": {},
   "outputs": [
    {
     "name": "stdout",
     "output_type": "stream",
     "text": [
      "+7(955)-555-55-55\n",
      "+7(955)-555-55-55\n",
      "+7(955)-555-55-55\n",
      "+7(955)-555-55-55\n",
      "+7(955)-555-55-55\n",
      "+7(955)-555-55-55\n",
      "The nomer 9955+555+55+55 is invalid\n"
     ]
    }
   ],
   "source": [
    "for nomer in phone_number:\n",
    "    valid_nomer_phone(nomer)"
   ]
  },
  {
   "cell_type": "code",
   "execution_count": null,
   "metadata": {},
   "outputs": [],
   "source": []
  }
 ],
 "metadata": {
  "kernelspec": {
   "display_name": "Python 3",
   "language": "python",
   "name": "python3"
  },
  "language_info": {
   "codemirror_mode": {
    "name": "ipython",
    "version": 3
   },
   "file_extension": ".py",
   "mimetype": "text/x-python",
   "name": "python",
   "nbconvert_exporter": "python",
   "pygments_lexer": "ipython3",
   "version": "3.7.6"
  }
 },
 "nbformat": 4,
 "nbformat_minor": 4
}
